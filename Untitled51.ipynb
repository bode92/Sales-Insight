{
 "cells": [
  {
   "cell_type": "code",
   "execution_count": 1,
   "id": "46ba631b",
   "metadata": {},
   "outputs": [],
   "source": [
    "import pandas as pd\n",
    "\n",
    "# Load the Excel file\n",
    "df = pd.read_excel(r'C:\\Users\\Bode\\Desktop\\Isagab store.xls')"
   ]
  },
  {
   "cell_type": "code",
   "execution_count": 2,
   "id": "09dee0f0",
   "metadata": {},
   "outputs": [
    {
     "name": "stdout",
     "output_type": "stream",
     "text": [
      "Initial Shape: (9994, 21)\n",
      "   Row ID         OrderID  OrderDate   ShipDate        ShipMode CustomerID  \\\n",
      "0       1  CA-2016-152156 2016-11-08 2016-11-11    Second Class   CG-12520   \n",
      "1       2  CA-2016-152156 2016-11-08 2016-11-11    Second Class   CG-12520   \n",
      "2       3  CA-2016-138688 2016-06-12 2016-06-16    Second Class   DV-13045   \n",
      "3       4  US-2015-108966 2015-10-11 2015-10-18  Standard Class   SO-20335   \n",
      "4       5  US-2015-108966 2015-10-11 2015-10-18  Standard Class   SO-20335   \n",
      "\n",
      "      CustomerName    Segment        Country             City  ... PostalCode  \\\n",
      "0      Claire Gute   Consumer  United States        Henderson  ...      42420   \n",
      "1      Claire Gute   Consumer  United States        Henderson  ...      42420   \n",
      "2  Darrin Van Huff  Corporate  United States      Los Angeles  ...      90036   \n",
      "3   Sean O'Donnell   Consumer  United States  Fort Lauderdale  ...      33311   \n",
      "4   Sean O'Donnell   Consumer  United States  Fort Lauderdale  ...      33311   \n",
      "\n",
      "   Region        ProductID         Category SubCategory  \\\n",
      "0   South  FUR-BO-10001798        Furniture   Bookcases   \n",
      "1   South  FUR-CH-10000454        Furniture      Chairs   \n",
      "2    West  OFF-LA-10000240  Office Supplies      Labels   \n",
      "3   South  FUR-TA-10000577        Furniture      Tables   \n",
      "4   South  OFF-ST-10000760  Office Supplies     Storage   \n",
      "\n",
      "                                         ProductName     Sales  Quantity  \\\n",
      "0                  Bush Somerset Collection Bookcase  261.9600         2   \n",
      "1  Hon Deluxe Fabric Upholstered Stacking Chairs,...  731.9400         3   \n",
      "2  Self-Adhesive Address Labels for Typewriters b...   14.6200         2   \n",
      "3      Bretford CR4500 Series Slim Rectangular Table  957.5775         5   \n",
      "4                     Eldon Fold 'N Roll Cart System   22.3680         2   \n",
      "\n",
      "   Discount    Profit  \n",
      "0      0.00   41.9136  \n",
      "1      0.00  219.5820  \n",
      "2      0.00    6.8714  \n",
      "3      0.45 -383.0310  \n",
      "4      0.20    2.5164  \n",
      "\n",
      "[5 rows x 21 columns]\n"
     ]
    }
   ],
   "source": [
    "# Preview the data\n",
    "print(\"Initial Shape:\", df.shape)\n",
    "print(df.head())\n"
   ]
  },
  {
   "cell_type": "code",
   "execution_count": 3,
   "id": "03fa57a8",
   "metadata": {},
   "outputs": [],
   "source": [
    "# 1. Strip whitespace from column names\n",
    "df.columns = df.columns.str.strip()"
   ]
  },
  {
   "cell_type": "code",
   "execution_count": 4,
   "id": "aeeaccf2",
   "metadata": {},
   "outputs": [
    {
     "name": "stdout",
     "output_type": "stream",
     "text": [
      "Duplicate rows: 0\n"
     ]
    }
   ],
   "source": [
    "# 2. Check for duplicates\n",
    "duplicates = df.duplicated().sum()\n",
    "print(f\"Duplicate rows: {duplicates}\")\n",
    "df = df.drop_duplicates()"
   ]
  },
  {
   "cell_type": "code",
   "execution_count": 5,
   "id": "927766de",
   "metadata": {},
   "outputs": [],
   "source": [
    "# 3. Convert dates to datetime format\n",
    "df['OrderDate'] = pd.to_datetime(df['OrderDate'])\n",
    "df['ShipDate'] = pd.to_datetime(df['ShipDate'])"
   ]
  },
  {
   "cell_type": "code",
   "execution_count": 6,
   "id": "c90d3daf",
   "metadata": {},
   "outputs": [
    {
     "name": "stdout",
     "output_type": "stream",
     "text": [
      "Missing values per column:\n",
      "Row ID          0\n",
      "OrderID         0\n",
      "OrderDate       0\n",
      "ShipDate        0\n",
      "ShipMode        0\n",
      "CustomerID      0\n",
      "CustomerName    0\n",
      "Segment         0\n",
      "Country         0\n",
      "City            0\n",
      "State           0\n",
      "PostalCode      0\n",
      "Region          0\n",
      "ProductID       0\n",
      "Category        0\n",
      "SubCategory     0\n",
      "ProductName     0\n",
      "Sales           0\n",
      "Quantity        0\n",
      "Discount        0\n",
      "Profit          0\n",
      "dtype: int64\n"
     ]
    }
   ],
   "source": [
    "# 4. Handle missing values\n",
    "print(\"Missing values per column:\")\n",
    "print(df.isnull().sum())\n",
    "df = df.dropna(subset=['OrderID', 'CustomerName', 'ProductName', 'Sales', 'Profit'])"
   ]
  },
  {
   "cell_type": "code",
   "execution_count": 7,
   "id": "155cfeda",
   "metadata": {},
   "outputs": [
    {
     "name": "stdout",
     "output_type": "stream",
     "text": [
      "Data types:\n",
      "Row ID                   int64\n",
      "OrderID                 object\n",
      "OrderDate       datetime64[ns]\n",
      "ShipDate        datetime64[ns]\n",
      "ShipMode                object\n",
      "CustomerID              object\n",
      "CustomerName            object\n",
      "Segment                 object\n",
      "Country                 object\n",
      "City                    object\n",
      "State                   object\n",
      "PostalCode               int64\n",
      "Region                  object\n",
      "ProductID               object\n",
      "Category                object\n",
      "SubCategory             object\n",
      "ProductName             object\n",
      "Sales                  float64\n",
      "Quantity                 int64\n",
      "Discount               float64\n",
      "Profit                 float64\n",
      "dtype: object\n"
     ]
    }
   ],
   "source": [
    "# 5. Check data types\n",
    "print(\"Data types:\")\n",
    "print(df.dtypes)"
   ]
  },
  {
   "cell_type": "code",
   "execution_count": 8,
   "id": "92c9ca5b",
   "metadata": {},
   "outputs": [
    {
     "name": "stdout",
     "output_type": "stream",
     "text": [
      "Describe numeric fields:\n",
      "              Sales     Quantity     Discount       Profit\n",
      "count   9994.000000  9994.000000  9994.000000  9994.000000\n",
      "mean     229.858001     3.789574     0.156203    28.656896\n",
      "std      623.245101     2.225110     0.206452   234.260108\n",
      "min        0.444000     1.000000     0.000000 -6599.978000\n",
      "25%       17.280000     2.000000     0.000000     1.728750\n",
      "50%       54.490000     3.000000     0.200000     8.666500\n",
      "75%      209.940000     5.000000     0.200000    29.364000\n",
      "max    22638.480000    14.000000     0.800000  8399.976000\n"
     ]
    }
   ],
   "source": [
    "# 8. Check for outliers in numeric data (optional)\n",
    "print(\"Describe numeric fields:\")\n",
    "print(df[['Sales', 'Quantity', 'Discount', 'Profit']].describe())"
   ]
  },
  {
   "cell_type": "code",
   "execution_count": 9,
   "id": "d7942ad7",
   "metadata": {},
   "outputs": [
    {
     "name": "stdout",
     "output_type": "stream",
     "text": [
      "Cleaned data saved to cleaned_Isagab_sales.csv\n"
     ]
    }
   ],
   "source": [
    "# Save cleaned data\n",
    "df.to_csv(\"cleaned_Isagab_sales.csv\", index=False)\n",
    "print(\"Cleaned data saved to cleaned_Isagab_sales.csv\")"
   ]
  },
  {
   "cell_type": "code",
   "execution_count": 1,
   "id": "a499ae39",
   "metadata": {},
   "outputs": [
    {
     "data": {
      "text/plain": [
       "'C:/Users/Bode/Desktop/MyNotebook.ipynb'"
      ]
     },
     "execution_count": 1,
     "metadata": {},
     "output_type": "execute_result"
    }
   ],
   "source": [
    "import shutil\n",
    "import os\n",
    "\n",
    "# Get your Windows username\n",
    "username = os.getlogin()\n",
    "\n",
    "# Copy the notebook to Desktop (replace 'MyNotebook.ipynb' with your actual filename)\n",
    "shutil.copy(\"Untitled51.ipynb\", f\"C:/Users/Bode/Desktop/MyNotebook.ipynb\")"
   ]
  },
  {
   "cell_type": "code",
   "execution_count": null,
   "id": "1d43c7ab",
   "metadata": {},
   "outputs": [],
   "source": []
  }
 ],
 "metadata": {
  "kernelspec": {
   "display_name": "Python 3",
   "language": "python",
   "name": "python3"
  },
  "language_info": {
   "codemirror_mode": {
    "name": "ipython",
    "version": 3
   },
   "file_extension": ".py",
   "mimetype": "text/x-python",
   "name": "python",
   "nbconvert_exporter": "python",
   "pygments_lexer": "ipython3",
   "version": "3.8.8"
  }
 },
 "nbformat": 4,
 "nbformat_minor": 5
}
